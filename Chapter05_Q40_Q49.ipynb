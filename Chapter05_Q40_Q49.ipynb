{
  "nbformat": 4,
  "nbformat_minor": 0,
  "metadata": {
    "colab": {
      "name": "Chapter05-Q40-Q49.ipynb",
      "version": "0.3.2",
      "provenance": [],
      "collapsed_sections": []
    },
    "kernelspec": {
      "name": "python3",
      "display_name": "Python 3"
    }
  },
  "cells": [
    {
      "metadata": {
        "id": "wDT1B37facRP",
        "colab_type": "text"
      },
      "cell_type": "markdown",
      "source": [
        "# 第5章: 係り受け解析\n",
        "> 夏目漱石の小説『吾輩は猫である』の文章（[neko.txt](http://www.cl.ecei.tohoku.ac.jp/nlp100/data/neko.txt)）をCaboChaを使って係り受け解析し，その結果をneko.txt.cabochaというファイルに保存せよ．このファイルを用いて，以下の問に対応するプログラムを実装せよ．\n",
        "\n",
        "### 下準備として\n",
        "CaboCha のインストールと、ファイル保存"
      ]
    },
    {
      "metadata": {
        "id": "NvJJS5VNKD19",
        "colab_type": "code",
        "colab": {}
      },
      "cell_type": "code",
      "source": [
        "#MeCabインストール\n",
        "#!wget \"https://drive.google.com/uc?export=download&id=0B4y35FiV1wh7cENtOXlicTFaRUE\" -O mecab-0.996.tar.gz\n",
        "#!tar zxvf mecab-0.996.tar.gz\n",
        "#!cd mecab-0.996\n",
        "#!./configure --with-charset=utf8\n",
        "#!make\n",
        "#!make check\n",
        "#!make install\n",
        "#!cd ..\n",
        "#!mecab -v\n",
        "!apt-get install mecab\n",
        "!mecab -v\n",
        "!pip3 install mecab-python3"
      ],
      "execution_count": 0,
      "outputs": []
    },
    {
      "metadata": {
        "id": "9GgdEAaj1UaH",
        "colab_type": "code",
        "colab": {}
      },
      "cell_type": "code",
      "source": [
        "\n",
        "\n",
        "#CRF++インストール\n",
        "!wget 'https://drive.google.com/uc?export=download&id=0B4y35FiV1wh7QVR6VXJ5dWExSTQ' -O CRF++-0.58.tar.gz\n",
        "!tar zxvf CRF++-0.58.tar.gz\n",
        "!./CRF++-0.58/configure\n",
        "!cd CRF++-0.58\n",
        "!make\n",
        "!make install\n",
        "!cd ..\n",
        "\n"
      ],
      "execution_count": 0,
      "outputs": []
    },
    {
      "metadata": {
        "id": "vgQh26PuujgU",
        "colab_type": "code",
        "colab": {}
      },
      "cell_type": "code",
      "source": [
        "!apt-get install chasen\n",
        "#!pip install chasen"
      ],
      "execution_count": 0,
      "outputs": []
    },
    {
      "metadata": {
        "id": "FK3ELIKK2FIo",
        "colab_type": "code",
        "colab": {}
      },
      "cell_type": "code",
      "source": [
        "!curl -sc /tmp/gcokie \"https://drive.google.com/uc?export=download&id=0B4y35FiV1wh7SDd1Q1dUQkZQaUU\" > /dev/null\n",
        "!\n",
        "getcode=\"$(awk '/_warning_/ {print $NF}' /tmp/gcokie)\"  \n",
        "!curl -Lb /tmp/gcokie \"https://drive.google.com/uc?export=download&confirm=${getcode}&id=0B4y35FiV1wh7SDd1Q1dUQkZQaUU\" -o \"cabocha-0.69.tar.bz2\"\n",
        "!tar xvf cabocha-0.69.tar.bz2\n",
        "!./cabocha-0.69/configure --with-charset=utf8 --enable-utf8-only --with-morphological-analyzer=chasen\n",
        "!cd cabocha-0.69/\n",
        "!make\n",
        "!make check\n",
        "!make install\n",
        "!cabocha --version\n",
        "\n",
        "\n"
      ],
      "execution_count": 0,
      "outputs": []
    },
    {
      "metadata": {
        "id": "2v-LLNl-bQfw",
        "colab_type": "text"
      },
      "cell_type": "markdown",
      "source": [
        "\n",
        "## 41. 係り受け解析結果の読み込み（文節・係り受け）\n",
        "> 40に加えて，文節を表すクラス`Chunk`を実装せよ．このクラスは形態素（`Morph`オブジェクト）のリスト（`morphs`），係り先文節インデックス番号（`dst`），係り元文節インデックス番号のリスト（`srcs`）をメンバ変数に持つこととする．さらに，入力テキストのCaboChaの解析結果を読み込み，１文を`Chunk`オブジェクトのリストとして表現し，8文目の文節の文字列と係り先を表示せよ．第5章の残りの問題では，ここで作ったプログラムを活用せよ．\n"
      ]
    },
    {
      "metadata": {
        "id": "UjOqlGxrYnRS",
        "colab_type": "text"
      },
      "cell_type": "markdown",
      "source": [
        "\n",
        "## 40. 係り受け解析結果の読み込み（形態素）\n",
        "> 形態素を表すクラスMorphを実装せよ．このクラスは表層形（`surface`），基本形（`base`），品詞（`pos`），品詞細分類1（`pos1`）をメンバ変数に持つこととする．さらに，CaboChaの解析結果（neko.txt.cabocha）を読み込み，各文を`Morph`オブジェクトのリストとして表現し，3文目の形態素列を表示せよ．\n",
        "\n"
      ]
    },
    {
      "metadata": {
        "id": "X7uRDCZOakYE",
        "colab_type": "text"
      },
      "cell_type": "markdown",
      "source": [
        "## 42. 係り元と係り先の文節の表示\n",
        "> 係り元の文節と係り先の文節のテキストをタブ区切り形式ですべて抽出せよ．ただし，句読点などの記号は出力しないようにせよ．\n",
        "\n"
      ]
    },
    {
      "metadata": {
        "id": "CpIINBNPaly2",
        "colab_type": "text"
      },
      "cell_type": "markdown",
      "source": [
        "## 43. 名詞を含む文節が動詞を含む文節に係るものを抽出\n",
        "> 名詞を含む文節が，動詞を含む文節に係るとき，これらをタブ区切り形式で抽出せよ．ただし，句読点などの記号は出力しないようにせよ．\n",
        "\n"
      ]
    },
    {
      "metadata": {
        "id": "nsI7HXDEanNH",
        "colab_type": "text"
      },
      "cell_type": "markdown",
      "source": [
        "## 44. 係り受け木の可視化\n",
        "> 与えられた文の係り受け木を有向グラフとして可視化せよ．可視化には，係り受け木を[DOT言語](https://ja.wikipedia.org/wiki/DOT言語)に変換し，[Graphviz](http://www.graphviz.org)を用いるとよい．また，Pythonから有向グラフを直接的に可視化するには，[pydot](https://github.com/erocarrera/pydot)を使うとよい．\n",
        "\n"
      ]
    },
    {
      "metadata": {
        "id": "GgNzf3IPaqCv",
        "colab_type": "text"
      },
      "cell_type": "markdown",
      "source": [
        "## 45. 動詞の格パターンの抽出\n",
        "> 今回用いている文章をコーパスと見なし，日本語の述語が取りうる格を調査したい． 動詞を述語，動詞に係っている文節の助詞を格と考え，述語と格をタブ区切り形式で出力せよ． ただし，出力は以下の仕様を満たすようにせよ．\n",
        ">  - 動詞を含む文節において，最左の動詞の基本形を述語とする\n",
        ">  - 述語に係る助詞を格とする\n",
        ">  - 述語に係る助詞（文節）が複数あるときは，すべての助詞をスペース区切りで辞書順に並べる\n",
        ">「吾輩はここで始めて人間というものを見た」という例文（neko.txt.cabochaの8文目）を考える． この文は「始める」と「見る」の２つの動詞を含み，「始める」に係る文節は「ここで」，「見る」に係る文節は「吾輩は」と「ものを」と解析された場合は，次のような出力になるはずである．\n",
        "```\n",
        "始める  で\n",
        "見る    は を\n",
        "```\n",
        "> このプログラムの出力をファイルに保存し，以下の事項をUNIXコマンドを用いて確認せよ．\n",
        ">  - コーパス中で頻出する述語と格パターンの組み合わせ\n",
        ">  - 「する」「見る」「与える」という動詞の格パターン（コーパス中で出現頻度の高い順に並べよ）\n",
        "\n"
      ]
    },
    {
      "metadata": {
        "id": "QYFqh6hLarG4",
        "colab_type": "text"
      },
      "cell_type": "markdown",
      "source": [
        "## 46. 動詞の格フレーム情報の抽出\n",
        "> 45のプログラムを改変し，述語と格パターンに続けて項（述語に係っている文節そのもの）をタブ区切り形式で出力せよ．45の仕様に加えて，以下の仕様を満たすようにせよ．\n",
        ">  - 項は述語に係っている文節の単語列とする（末尾の助詞を取り除く必要はない）\n",
        ">  - 述語に係る文節が複数あるときは，助詞と同一の基準・順序でスペース区切りで並べる\n",
        ">「吾輩はここで始めて人間というものを見た」という例文（neko.txt.cabochaの8文目）を考える． この文は「始める」と「見る」の２つの動詞を含み，「始める」に係る文節は「ここで」，「見る」に係る文節は「吾輩は」と「ものを」と解析された場合は，次のような出力になるはずである．\n",
        "```\n",
        "始める  で      ここで\n",
        "見る    は を   吾輩は ものを\n",
        "```\n",
        "\n"
      ]
    },
    {
      "metadata": {
        "id": "mn-eNmTTasMX",
        "colab_type": "text"
      },
      "cell_type": "markdown",
      "source": [
        "## 47. 機能動詞構文のマイニング\n",
        "> 動詞のヲ格にサ変接続名詞が入っている場合のみに着目したい．46のプログラムを以下の仕様を満たすように改変せよ．\n",
        ">  - 「サ変接続名詞+を（助詞）」で構成される文節が動詞に係る場合のみを対象とする\n",
        ">  - 述語は「サ変接続名詞+を+動詞の基本形」とし，文節中に複数の動詞があるときは，最左の動詞を用いる\n",
        ">  - 述語に係る助詞（文節）が複数あるときは，すべての助詞をスペース区切りで辞書順に並べる\n",
        ">  - 述語に係る文節が複数ある場合は，すべての項をスペース区切りで並べる（助詞の並び順と揃えよ）\n",
        ">   例えば「別段くるにも及ばんさと、主人は手紙に返事をする。」という文から，以下の出力が得られるはずである．\n",
        "```\n",
        "返事をする      と に は        及ばんさと 手紙に 主人は\n",
        "```\n",
        "> このプログラムの出力をファイルに保存し，以下の事項をUNIXコマンドを用いて確認せよ．\n",
        ">  - コーパス中で頻出する述語（サ変接続名詞+を+動詞）\n",
        ">  - コーパス中で頻出する述語と助詞パターン\n",
        "\n"
      ]
    },
    {
      "metadata": {
        "id": "IBVW78nkatc_",
        "colab_type": "text"
      },
      "cell_type": "markdown",
      "source": [
        "## 48. 名詞から根へのパスの抽出\n",
        "> 文中のすべての名詞を含む文節に対し，その文節から構文木の根に至るパスを抽出せよ． ただし，構文木上のパスは以下の仕様を満たすものとする．\n",
        ">  - 各文節は（表層形の）形態素列で表現する\n",
        ">  - パスの開始文節から終了文節に至るまで，各文節の表現を\"->\"で連結する\n",
        "> 「吾輩はここで始めて人間というものを見た」という文（neko.txt.cabochaの8文目）から，次のような出力が得られるはずである．\n",
        "```\n",
        "吾輩は -> 見た\n",
        "ここで -> 始めて -> 人間という -> ものを -> 見た\n",
        "人間という -> ものを -> 見た\n",
        "ものを -> 見た\n",
        "```\n",
        "\n"
      ]
    },
    {
      "metadata": {
        "id": "keoADAITaup6",
        "colab_type": "text"
      },
      "cell_type": "markdown",
      "source": [
        "## 49. 名詞間の係り受けパスの抽出\n",
        "> 文中のすべての名詞句のペアを結ぶ最短係り受けパスを抽出せよ．ただし，名詞句ペアの文節番号がiとj（i<j）のとき，係り受けパスは以下の仕様を満たすものとする．\n",
        ">  - 問題48と同様に，パスは開始文節から終了文節に至るまでの各文節の表現（表層形の形態素列）を\"->\"で連結して表現する\n",
        ">  - 文節iとjに含まれる名詞句はそれぞれ，XとYに置換する\n",
        "> また，係り受けパスの形状は，以下の2通りが考えられる．\n",
        ">  - 文節iから構文木の根に至る経路上に文節jが存在する場合: 文節iから文節jのパスを表示\n",
        ">  - 上記以外で，文節iと文節jから構文木の根に至る経路上で共通の文節kで交わる場合: 文節iから文節kに至る直前のパスと文節jから文節kに至る直前までのパス，文節kの内容を\"|\"で連結して表示\n",
        "> 例えば，「吾輩はここで始めて人間というものを見た。」という文（neko.txt.cabochaの8文目）から，次のような出力が得られるはずである．\n",
        "```\n",
        "Xは | Yで -> 始めて -> 人間という -> ものを | 見た\n",
        "Xは | Yという -> ものを | 見た\n",
        "Xは | Yを | 見た\n",
        "Xで -> 始めて -> Y\n",
        "Xで -> 始めて -> 人間という -> Y\n",
        "Xという -> Y\n",
        "```"
      ]
    }
  ]
}