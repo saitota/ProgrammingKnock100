{
  "nbformat": 4,
  "nbformat_minor": 0,
  "metadata": {
    "colab": {
      "name": "Chapter04-Q30-Q39.ipynb",
      "version": "0.3.2",
      "provenance": [],
      "collapsed_sections": []
    },
    "kernelspec": {
      "name": "python3",
      "display_name": "Python 3"
    }
  },
  "cells": [
    {
      "metadata": {
        "id": "zMAsXGHp6Umx",
        "colab_type": "text"
      },
      "cell_type": "markdown",
      "source": [
        "# :muscle: 前書き\n",
        "詳細は[第1章](https://qiita.com/saitotak/items/73852ecb7cc4b10b42a5)参照、引き続き言語処理100本ノックの第4章を回答していきます。本章では 青空文庫の「吾輩は猫である」のテキストを題材に、形態素解析と統計・グラフ描画を行っていきます。言語処理っぽくなってきました。\n",
        "\n",
        "同じデータの使い回しがおおく、流石にローカルPythonだと辛くなってきたので、今回から Colabolatory の JupyterNotebook を使っています。\n",
        "\n",
        "\n",
        "# :muscle: 第4章: 形態素解析\n",
        "> 夏目漱石の小説『吾輩は猫である』の文章（[neko.txt](http://www.cl.ecei.tohoku.ac.jp/nlp100/data/neko.txt)）をMeCabを使って形態素解析し，その結果をneko.txt.mecabというファイルに保存せよ．このファイルを用いて，以下の問に対応するプログラムを実装せよ．\n",
        "> なお，問題37, 38, 39は[matplotlib](http://matplotlib.org/)もしくは[Gnuplot](http://www.gnuplot.info/)を用いるとよい．\n",
        "\n",
        "UTF-8,LF の1万行程度の日本語プレーンテキストでした。形態素解析と統計のライブラリを存分に使うことになりそうな感じです。\n",
        "\n",
        "```text:neko.txt\n",
        "一\n",
        "\n",
        "　吾輩は猫である。\n",
        "名前はまだ無い。\n",
        "\n",
        "　どこで生れたかとんと見当がつかぬ。\n",
        "何でも薄暗いじめじめした所でニャーニャー泣いていた事だけは記憶している。\n",
        "（以下略）\n",
        "```\n",
        "\n",
        "## ⚾ 30. 形態素解析結果の読み込み\n",
        "> 形態素解析結果（neko.txt.mecab）を読み込むプログラムを実装せよ．ただし，各形態素は表層形（surface），基本形（base），品詞（pos），品詞細分類1（pos1）をキーとするマッピング型に格納し，1文を形態素（マッピング型）のリストとして表現せよ．第4章の残りの問題では，ここで作ったプログラムを活用せよ．\n"
      ]
    },
    {
      "metadata": {
        "id": "YaYccny371nK",
        "colab_type": "text"
      },
      "cell_type": "markdown",
      "source": [
        "### 下準備として\n",
        "- データのダウンロード\n",
        "- janomeのインストール\n",
        "    - MeCab ではなく janome をインストールします、理由はインストールが楽だったから\n"
      ]
    },
    {
      "metadata": {
        "id": "cnfXuA-F6XqS",
        "colab_type": "code",
        "colab": {
          "base_uri": "https://localhost:8080/",
          "height": 35
        },
        "outputId": "d87d70a1-a6fb-44a5-fdcf-8889708ca3a4"
      },
      "cell_type": "code",
      "source": [
        "import urllib.request\n",
        "urllib.request.urlretrieve('http://www.cl.ecei.tohoku.ac.jp/nlp100/data/neko.txt','./neko.txt')\n"
      ],
      "execution_count": 39,
      "outputs": [
        {
          "output_type": "execute_result",
          "data": {
            "text/plain": [
              "('./neko.txt', <http.client.HTTPMessage at 0x7f2bd68e2ac8>)"
            ]
          },
          "metadata": {
            "tags": []
          },
          "execution_count": 39
        }
      ]
    },
    {
      "metadata": {
        "id": "QVlw3iJO76GF",
        "colab_type": "code",
        "colab": {
          "base_uri": "https://localhost:8080/",
          "height": 35
        },
        "outputId": "8f15b81a-13e9-4ddd-a1d1-48c6246d0899"
      },
      "cell_type": "code",
      "source": [
        "!pip install janome"
      ],
      "execution_count": 40,
      "outputs": [
        {
          "output_type": "stream",
          "text": [
            "Requirement already satisfied: janome in /usr/local/lib/python3.6/dist-packages (0.3.6)\r\n"
          ],
          "name": "stdout"
        }
      ]
    },
    {
      "metadata": {
        "id": "o2EZDjwA-ATd",
        "colab_type": "text"
      },
      "cell_type": "markdown",
      "source": [
        "### 解0-1 janomeによる形態素解析と、neko.txt.janome のテキスト作成（おそい）\n",
        "- `janome.tokenizer` を使って形態素解析します\n",
        "    - [janome package — janome.tokenizer](http://mocobeta.github.io/janome/api/janome.html#module-janome.tokenizer)\n",
        "- やたら遅かったので、開始・終了 時間を計測するコードを入れました\n",
        "- 実測：42sec\n"
      ]
    },
    {
      "metadata": {
        "id": "u_qr8E_f6Z1I",
        "colab_type": "code",
        "colab": {
          "base_uri": "https://localhost:8080/",
          "height": 90
        },
        "outputId": "5bf3640a-0ad5-4002-e0c5-28b885dc5157"
      },
      "cell_type": "code",
      "source": [
        "from janome.tokenizer import Tokenizer\n",
        "import janome\n",
        "import datetime\n",
        "\n",
        "print('start:' + str(datetime.datetime.now()))\n",
        "\n",
        "t = Tokenizer()\n",
        "\n",
        "# WriteのたびにOpen\n",
        "with open ('./neko.txt','r',encoding='utf-8') as file_temp:\n",
        "    for line in file_temp:\n",
        "        # 形態素解析して保存\n",
        "        for token in t.tokenize(line, stream=True):\n",
        "            with open ('./neko.txt.janome-01','a',encoding='utf-8') as file_janome:\n",
        "                    file_janome.write(str(token) + '\\n')\n",
        "\n",
        "print('end:' + str(datetime.datetime.now()))\n",
        "\n",
        "'''\n",
        "一\t名詞,数,*,*,*,*,一,イチ,イチ\n",
        "吾輩\t名詞,代名詞,一般,*,*,*,吾輩,ワガハイ,ワガハイ\n",
        "は\t助詞,係助詞,*,*,*,*,は,ハ,ワ\n",
        "猫\t名詞,一般,*,*,*,*,猫,ネコ,ネコ\n",
        "で\t助動詞,*,*,*,特殊・ダ,連用形,だ,デ,デ\n",
        "ある\t助動詞,*,*,*,五段・ラ行アル,基本形,ある,アル,アル\n",
        "。\t記号,句点,*,*,*,*,。,。,。\n",
        "名前\t名詞,一般,*,*,*,*,名前,ナマエ,ナマエ\n",
        "（以下略）\n",
        "'''\n"
      ],
      "execution_count": 41,
      "outputs": [
        {
          "output_type": "stream",
          "text": [
            "start:2018-05-29 02:07:20.776423\n",
            "end:2018-05-29 02:07:58.578769\n"
          ],
          "name": "stdout"
        },
        {
          "output_type": "execute_result",
          "data": {
            "text/plain": [
              "'\\n一\\t名詞,数,*,*,*,*,一,イチ,イチ\\n吾輩\\t名詞,代名詞,一般,*,*,*,吾輩,ワガハイ,ワガハイ\\nは\\t助詞,係助詞,*,*,*,*,は,ハ,ワ\\n猫\\t名詞,一般,*,*,*,*,猫,ネコ,ネコ\\nで\\t助動詞,*,*,*,特殊・ダ,連用形,だ,デ,デ\\nある\\t助動詞,*,*,*,五段・ラ行アル,基本形,ある,アル,アル\\n。\\t記号,句点,*,*,*,*,。,。,。\\n名前\\t名詞,一般,*,*,*,*,名前,ナマエ,ナマエ\\n（以下略）\\n'"
            ]
          },
          "metadata": {
            "tags": []
          },
          "execution_count": 41
        }
      ]
    },
    {
      "metadata": {
        "id": "7LZCwCp7-XOP",
        "colab_type": "text"
      },
      "cell_type": "markdown",
      "source": [
        "### 解0-2 高速化\n",
        "- メモリ枯渇を鑑み 形態素解析→write を繰り返すようにしてみましたが、やたらと時間がかかったため、一括で書き込むようにして高速化を図ります\n",
        "- 実測：29sec"
      ]
    },
    {
      "metadata": {
        "id": "Sqhe6pLpADtg",
        "colab_type": "code",
        "colab": {
          "base_uri": "https://localhost:8080/",
          "height": 53
        },
        "outputId": "ffbaa051-4091-482b-c5e1-38f1cedc7291"
      },
      "cell_type": "code",
      "source": [
        "print('start:' + str(datetime.datetime.now()))\n",
        "\n",
        "t = Tokenizer()\n",
        "\n",
        "# Openしてから\n",
        "with open ('./neko.txt','r',encoding='utf-8') as file_temp , open ('./neko.txt.janome-02','a',encoding='utf-8') as file_janome:\n",
        "    for line in file_temp:\n",
        "        # 形態素解析して保存\n",
        "        for x in t.tokenize(line, stream=True):\n",
        "            file_janome.write(str(x) + '\\n') \n",
        "            \n",
        "\n",
        "print('end:' + str(datetime.datetime.now()))"
      ],
      "execution_count": 42,
      "outputs": [
        {
          "output_type": "stream",
          "text": [
            "start:2018-05-29 02:07:59.373170\n",
            "end:2018-05-29 02:08:25.455390\n"
          ],
          "name": "stdout"
        }
      ]
    },
    {
      "metadata": {
        "id": "5IG5w-c8Bj5H",
        "colab_type": "text"
      },
      "cell_type": "markdown",
      "source": [
        "### 解0-3 さらに高速化\n",
        "- それでも遅い気がしたので、書き込み部分をリスト内包表記にしました、多少早くなった\n",
        "- 実測：27sec\n"
      ]
    },
    {
      "metadata": {
        "id": "brxKwHW0BoY9",
        "colab_type": "code",
        "colab": {
          "base_uri": "https://localhost:8080/",
          "height": 53
        },
        "outputId": "f1522e8d-e33e-4254-85b7-a9aaaad5f990"
      },
      "cell_type": "code",
      "source": [
        "print('start:' + str(datetime.datetime.now()))\n",
        "\n",
        "t = Tokenizer()\n",
        "\n",
        "# 一部リスト内包表記\n",
        "with open ('./neko.txt','r',encoding='utf-8') as file_temp , open ('./neko.txt.janome-03','a',encoding='utf-8') as file_janome:\n",
        "    for line in file_temp:\n",
        "        # 形態素解析して保存\n",
        "        [file_janome.write(str(x) + '\\n') for x in t.tokenize(line, stream=True)]\n",
        "            \n",
        "\n",
        "print('end:' + str(datetime.datetime.now()))"
      ],
      "execution_count": 43,
      "outputs": [
        {
          "output_type": "stream",
          "text": [
            "start:2018-05-29 02:08:26.729600\n",
            "end:2018-05-29 02:08:53.419695\n"
          ],
          "name": "stdout"
        }
      ]
    },
    {
      "metadata": {
        "id": "1AODqHM9BttK",
        "colab_type": "text"
      },
      "cell_type": "markdown",
      "source": [
        "### 解0-4 さらに高速化・・・失敗\n",
        "- 読みにくいですがぜんぶリスト内包表記にしました\n",
        "- 実測：88sec\n",
        "  - 遅くなった何故。。。"
      ]
    },
    {
      "metadata": {
        "id": "SX2i9XKXBxXx",
        "colab_type": "code",
        "colab": {
          "base_uri": "https://localhost:8080/",
          "height": 53
        },
        "outputId": "321d1e1f-6c81-407c-8537-e807cb995b61"
      },
      "cell_type": "code",
      "source": [
        "print('start:' + str(datetime.datetime.now()))\n",
        "\n",
        "t = Tokenizer()\n",
        "\n",
        "# リスト内包表記\n",
        "with open ('./neko.txt','r',encoding='utf-8') as file_temp , open ('./neko.txt.janome-04','a',encoding='utf-8') as file_janome:\n",
        "    [\n",
        "        [\n",
        "            file_janome.write(str(x) + '\\n')\n",
        "            for x in t.tokenize(y, stream=True)\n",
        "        ]\n",
        "        for y in file_temp\n",
        "    ]\n",
        "\n",
        "print('end:' + str(datetime.datetime.now()))"
      ],
      "execution_count": 44,
      "outputs": [
        {
          "output_type": "stream",
          "text": [
            "start:2018-05-29 02:08:54.627707\n",
            "end:2018-05-29 02:09:21.049212\n"
          ],
          "name": "stdout"
        }
      ]
    },
    {
      "metadata": {
        "id": "TjZ3XTkcCGkQ",
        "colab_type": "text"
      },
      "cell_type": "markdown",
      "source": [
        "### 解1 neko.txt.janome のテキスト作成\n",
        "-  形態素はタブ区切り、品詞等の分類はカンマ区切りなので成型します"
      ]
    },
    {
      "metadata": {
        "id": "cZwLEpyzC3MP",
        "colab_type": "code",
        "colab": {
          "base_uri": "https://localhost:8080/",
          "height": 55
        },
        "outputId": "a9c15946-4738-4815-b97e-94d004c25cc7"
      },
      "cell_type": "code",
      "source": [
        "with open ('./neko.txt.janome-04','r',encoding='utf-8') as file_temp:\n",
        "    text = file_temp.readlines()\n",
        "\n",
        "lst_janome=[]\n",
        "for line in text:\n",
        "    lst_janome.append(\n",
        "        { 'surface': line.split('\\t')[0], # 表層形\n",
        "          'pos'    : line.split('\\t')[1].split(',')[0], # 品詞\n",
        "          'pos1'   : line.split('\\t')[1].split(',')[1], # 品詞細分類1\n",
        "          'base'   : line.split('\\t')[1].split(',')[6]   # 基本形\n",
        "        })\n",
        "\n",
        "print(lst_janome[:10:]) # 10件表示\n",
        "  "
      ],
      "execution_count": 45,
      "outputs": [
        {
          "output_type": "stream",
          "text": [
            "[{'surface': '一', 'pos': '名詞', 'pos1': '数', 'base': '一'}, {'surface': '吾輩', 'pos': '名詞', 'pos1': '代名詞', 'base': '吾輩'}, {'surface': 'は', 'pos': '助詞', 'pos1': '係助詞', 'base': 'は'}, {'surface': '猫', 'pos': '名詞', 'pos1': '一般', 'base': '猫'}, {'surface': 'で', 'pos': '助動詞', 'pos1': '*', 'base': 'だ'}, {'surface': 'ある', 'pos': '助動詞', 'pos1': '*', 'base': 'ある'}, {'surface': '。', 'pos': '記号', 'pos1': '句点', 'base': '。'}, {'surface': '名前', 'pos': '名詞', 'pos1': '一般', 'base': '名前'}, {'surface': 'は', 'pos': '助詞', 'pos1': '係助詞', 'base': 'は'}, {'surface': 'まだ', 'pos': '副詞', 'pos1': '助詞類接続', 'base': 'まだ'}]\n"
          ],
          "name": "stdout"
        }
      ]
    },
    {
      "metadata": {
        "id": "Nt_Je-mbxo_k",
        "colab_type": "text"
      },
      "cell_type": "markdown",
      "source": [
        "\n",
        "## ⚾ 31. 動詞\n",
        "> 動詞の表層形をすべて抽出せよ．"
      ]
    },
    {
      "metadata": {
        "id": "s-PHeICZq05e",
        "colab_type": "text"
      },
      "cell_type": "markdown",
      "source": [
        "## 解1 普通にループ"
      ]
    },
    {
      "metadata": {
        "id": "9aDQrWN0xtxf",
        "colab_type": "code",
        "colab": {
          "base_uri": "https://localhost:8080/",
          "height": 35
        },
        "outputId": "45bcb081-f04d-4a6d-bc57-4f65910e2800"
      },
      "cell_type": "code",
      "source": [
        "lst_res = []\n",
        "for janome in lst_janome:\n",
        "    if janome.get('pos') == '動詞':\n",
        "        lst_res.append(janome.get('surface'))\n",
        "\n",
        "print(lst_res[:10:]) # 10件表示 "
      ],
      "execution_count": 46,
      "outputs": [
        {
          "output_type": "stream",
          "text": [
            "['生れ', 'つか', 'し', '泣い', 'し', 'いる', '始め', '見', '聞く', '捕え']\n"
          ],
          "name": "stdout"
        }
      ]
    },
    {
      "metadata": {
        "id": "KCMUui9Lqyl3",
        "colab_type": "text"
      },
      "cell_type": "markdown",
      "source": [
        "## 解2. 内容表記と重複排除\n",
        "- このくらいのループであればリスト内包表記のほうがいいかも\n",
        "- `set()` による重複排除"
      ]
    },
    {
      "metadata": {
        "id": "LFbLgTQ2rItL",
        "colab_type": "code",
        "colab": {
          "base_uri": "https://localhost:8080/",
          "height": 35
        },
        "outputId": "6a3e5493-b081-4f8e-beb5-d3d2e8d4c869"
      },
      "cell_type": "code",
      "source": [
        "lst_res = list(set([x.get('surface') for x in lst_janome if x.get('pos') == '動詞']))\n",
        "print(lst_res[:10:]) # 10件表示"
      ],
      "execution_count": 47,
      "outputs": [
        {
          "output_type": "stream",
          "text": [
            "['冠せ', 'とれん', 'わめく', 'たれ', '衰える', '追いやっ', 'たけ', '突き戻す', '落す', '登る']\n"
          ],
          "name": "stdout"
        }
      ]
    },
    {
      "metadata": {
        "id": "lZeEV8GQtrsH",
        "colab_type": "text"
      },
      "cell_type": "markdown",
      "source": [
        "\n",
        "## ⚾ 32. 動詞の原形\n",
        "> 動詞の原形をすべて抽出せよ．\n"
      ]
    },
    {
      "metadata": {
        "id": "sRXohvM2tvvq",
        "colab_type": "text"
      },
      "cell_type": "markdown",
      "source": [
        "## 解1. 内包表記\n",
        "- 原型=基本形（base）のようです"
      ]
    },
    {
      "metadata": {
        "id": "PY-T2WzAuDaU",
        "colab_type": "code",
        "colab": {
          "base_uri": "https://localhost:8080/",
          "height": 35
        },
        "outputId": "167544e9-a141-4863-ac7c-a76a9a94ec85"
      },
      "cell_type": "code",
      "source": [
        "st_res = list(set([x.get('base') for x in lst_janome if x.get('pos') == '動詞']))\n",
        "print(lst_res[:10:]) # 10件表示"
      ],
      "execution_count": 48,
      "outputs": [
        {
          "output_type": "stream",
          "text": [
            "['冠せ', 'とれん', 'わめく', 'たれ', '衰える', '追いやっ', 'たけ', '突き戻す', '落す', '登る']\n"
          ],
          "name": "stdout"
        }
      ]
    },
    {
      "metadata": {
        "id": "UaN7s2TCIfbC",
        "colab_type": "text"
      },
      "cell_type": "markdown",
      "source": [
        "## ⚾ 33. サ変名詞\n",
        "> サ変接続の名詞をすべて抽出せよ．"
      ]
    },
    {
      "metadata": {
        "id": "3MfWWrArIgpT",
        "colab_type": "text"
      },
      "cell_type": "markdown",
      "source": [
        "## 解1. 内包表記\n",
        "- 品詞細分類1がサ変接続のものを探します"
      ]
    },
    {
      "metadata": {
        "id": "LmQvcnc3IjLZ",
        "colab_type": "code",
        "colab": {
          "base_uri": "https://localhost:8080/",
          "height": 35
        },
        "outputId": "3715798d-2eab-431c-cf8f-35aad27fcc4a"
      },
      "cell_type": "code",
      "source": [
        "lst_res = list(set([x.get('base') for x in lst_janome if x.get('pos1') == 'サ変接続']))\n",
        "print(lst_res[:10:]) # 10件表示"
      ],
      "execution_count": 49,
      "outputs": [
        {
          "output_type": "stream",
          "text": [
            "['一言', '出入', '辞職', '電話', '芝居', '奮闘', '生息', '論断', '区劃', '激賞']\n"
          ],
          "name": "stdout"
        }
      ]
    },
    {
      "metadata": {
        "id": "aOMgRsPkZ7YL",
        "colab_type": "text"
      },
      "cell_type": "markdown",
      "source": [
        "## ⚾ 34. 「AのB」\n",
        "> 2つの名詞が「の」で連結されている名詞句を抽出せよ．"
      ]
    },
    {
      "metadata": {
        "id": "rqZPKfonbdUT",
        "colab_type": "text"
      },
      "cell_type": "markdown",
      "source": [
        "## 解1. 普通にループ\n",
        "- 名詞 の 名詞 を探します"
      ]
    },
    {
      "metadata": {
        "id": "toOSnVSYaTFd",
        "colab_type": "code",
        "colab": {
          "base_uri": "https://localhost:8080/",
          "height": 35
        },
        "outputId": "f3114b58-a38e-492e-8d6e-3e59b27286c9"
      },
      "cell_type": "code",
      "source": [
        "lst_res = []\n",
        "for i,janome in enumerate(lst_janome):\n",
        "    if janome.get('base') == 'の':\n",
        "        if (lst_janome[i-1].get('pos') == '名詞') and (lst_janome[i+1].get('pos') == '名詞'):\n",
        "          lst_res.append(lst_janome[i-1].get('base') + janome.get('base') + lst_janome[i+1].get('base'))\n",
        "\n",
        "print(lst_res[:10:]) # 10件表示"
      ],
      "execution_count": 50,
      "outputs": [
        {
          "output_type": "stream",
          "text": [
            "['彼の掌', '掌の上', '書生の顔', 'はずの顔', '顔の真中', '穴の中', '書生の掌', '掌の裏', '何の事', '肝心の母親']\n"
          ],
          "name": "stdout"
        }
      ]
    },
    {
      "metadata": {
        "id": "76WGnIRMckIG",
        "colab_type": "text"
      },
      "cell_type": "markdown",
      "source": [
        "## ⚾ 35. 名詞の連接\n",
        "> 名詞の連接（連続して出現する名詞）を最長一致で抽出せよ．"
      ]
    },
    {
      "metadata": {
        "id": "7uxCNyOncknq",
        "colab_type": "text"
      },
      "cell_type": "markdown",
      "source": [
        "\n",
        "## 解1. 普通にループ\n",
        "- 名詞 の繰り返しを探します\n",
        "- 名詞×5以上 を求めてみました"
      ]
    },
    {
      "metadata": {
        "id": "6iWe0dWwcohK",
        "colab_type": "code",
        "colab": {
          "base_uri": "https://localhost:8080/",
          "height": 35
        },
        "outputId": "e0b9858e-e847-42b8-8b89-3478f052080c"
      },
      "cell_type": "code",
      "source": [
        "lst_res = []\n",
        "lst_tmp = []\n",
        "for janome in lst_janome:\n",
        "    if janome.get('pos') == '名詞':\n",
        "         lst_tmp.append(janome.get('surface'))\n",
        "    else:\n",
        "        lst_tmp.clear()\n",
        "    if(len(lst_tmp) > 4): #ほんとは1が条件\n",
        "        lst_res.append(''.join(lst_tmp))\n",
        "\n",
        "print(lst_res[:10:]) # 10件表示"
      ],
      "execution_count": 51,
      "outputs": [
        {
          "output_type": "stream",
          "text": [
            "['壱円五十銭', '一杯一杯一', '一杯一杯一杯', '三毛子さん三毛', '三毛子さん三毛子', '三毛子さん三毛子さん', '吾等猫属間', '一切れ二銭三', '一切れ二銭三厘', '鳥部教授歓迎会']\n"
          ],
          "name": "stdout"
        }
      ]
    },
    {
      "metadata": {
        "id": "tgOuW_v5rM4j",
        "colab_type": "text"
      },
      "cell_type": "markdown",
      "source": [
        "## ⚾ 36. 単語の出現頻度\n",
        "> 文章中に出現する単語とその出現頻度を求め，出現頻度の高い順に並べよ．\n"
      ]
    },
    {
      "metadata": {
        "id": "aA-D0KS-rJV8",
        "colab_type": "text"
      },
      "cell_type": "markdown",
      "source": [
        "## 解1. collections型\n",
        "- `collections` の `most_common([n])`ｄ集計\n",
        "    - [8.3. collections](https://docs.python.jp/3/library/collections.html#collections.Counter.most_common)\n",
        "- Pandasとか使うのかと思った"
      ]
    },
    {
      "metadata": {
        "id": "BD2zINSQrq3V",
        "colab_type": "code",
        "colab": {
          "base_uri": "https://localhost:8080/",
          "height": 35
        },
        "outputId": "8fe07941-5b1c-4ac0-8788-359a537761fc"
      },
      "cell_type": "code",
      "source": [
        "import collections\n",
        "\n",
        "lst_tmp = []\n",
        "for janome in lst_janome:\n",
        "    lst_tmp.append(janome.get('surface'))\n",
        "\n",
        "cnt = collections.Counter(lst_tmp)\n",
        "lst_commons = cnt.most_common()\n",
        "\n",
        "print(lst_commons[:10:]) # 10件表示\n",
        "\n",
        "  "
      ],
      "execution_count": 52,
      "outputs": [
        {
          "output_type": "stream",
          "text": [
            "[('の', 18388), ('。', 14972), ('て', 13730), ('、', 13544), ('は', 12840), ('に', 12478), ('を', 12134), ('と', 11010), ('が', 10672), ('た', 7976)]\n"
          ],
          "name": "stdout"
        }
      ]
    },
    {
      "metadata": {
        "id": "Kh5si4i1Ejgj",
        "colab_type": "text"
      },
      "cell_type": "markdown",
      "source": [
        "\n",
        "## ⚾ 37. 頻度上位10語\n",
        "> 出現頻度が高い10語とその出現頻度をグラフ（例えば棒グラフなど）で表示せよ．\n",
        "\n",
        "\n"
      ]
    },
    {
      "metadata": {
        "id": "kpvgN2MHRIiK",
        "colab_type": "text"
      },
      "cell_type": "markdown",
      "source": [
        "## 解1. matplotlib.pyplot でグラフ表示\n",
        "- `matplotlib.pyplot`  でグラフ化する\n",
        "    - [matplotlib.pyplot — Matplotlib 2.2.2 documentation](https://matplotlib.org/api/_as_gen/matplotlib.pyplot.html#module-matplotlib.pyplot)\n",
        "- インストールから必要だと思ったけれど。colab環境には既に入っていた\n",
        "- 日本語フォント `fonts-ipafont-gothic` をインストール\n",
        "- フォント指定には `matplotlib.font_manager` を使用"
      ]
    },
    {
      "metadata": {
        "id": "gHmck6PWQoDv",
        "colab_type": "code",
        "colab": {
          "base_uri": "https://localhost:8080/",
          "height": 230
        },
        "outputId": "ee42777f-94db-4bde-88cc-9e2b39988c9f"
      },
      "cell_type": "code",
      "source": [
        "!pip install matplotlib\n",
        "!apt-get -y install fonts-ipafont-gothic"
      ],
      "execution_count": 53,
      "outputs": [
        {
          "output_type": "stream",
          "text": [
            "Requirement already satisfied: matplotlib in /usr/local/lib/python3.6/dist-packages (2.1.2)\n",
            "Requirement already satisfied: pytz in /usr/local/lib/python3.6/dist-packages (from matplotlib) (2018.4)\n",
            "Requirement already satisfied: numpy>=1.7.1 in /usr/local/lib/python3.6/dist-packages (from matplotlib) (1.14.3)\n",
            "Requirement already satisfied: pyparsing!=2.0.4,!=2.1.2,!=2.1.6,>=2.0.1 in /usr/local/lib/python3.6/dist-packages (from matplotlib) (2.2.0)\n",
            "Requirement already satisfied: six>=1.10 in /usr/local/lib/python3.6/dist-packages (from matplotlib) (1.11.0)\n",
            "Requirement already satisfied: python-dateutil>=2.1 in /usr/local/lib/python3.6/dist-packages (from matplotlib) (2.5.3)\n",
            "Requirement already satisfied: cycler>=0.10 in /usr/local/lib/python3.6/dist-packages (from matplotlib) (0.10.0)\n",
            "Reading package lists... Done\n",
            "Building dependency tree       \n",
            "Reading state information... Done\n",
            "fonts-ipafont-gothic is already the newest version (00303-17ubuntu1).\n",
            "0 upgraded, 0 newly installed, 0 to remove and 0 not upgraded.\n"
          ],
          "name": "stdout"
        }
      ]
    },
    {
      "metadata": {
        "id": "B6E8EusFQp4u",
        "colab_type": "code",
        "colab": {
          "base_uri": "https://localhost:8080/",
          "height": 378
        },
        "outputId": "10b6072d-e5b6-48b6-9195-69e9145f4a91"
      },
      "cell_type": "code",
      "source": [
        "import matplotlib.pyplot as plt\n",
        "from matplotlib.font_manager import FontProperties\n",
        "\n",
        "lst_words = [] \n",
        "lst_count = [] \n",
        "\n",
        "for lst_common in lst_commons[:10:]:\n",
        "  lst_words.append(lst_common[0])\n",
        "  lst_count.append(lst_common[1])\n",
        "\n",
        "# 日本語フォント\n",
        "fp = FontProperties(fname='/usr/share/fonts/opentype/ipafont-gothic/ipagp.ttf') \n",
        "\n",
        "# ラベル設定\n",
        "plt.title('頻出単語グラフ', fontproperties=fp)\n",
        "plt.xlabel('単語', fontproperties=fp) # 横軸\n",
        "plt.ylabel('出現頻度', fontproperties=fp) # 縦軸\n",
        "\n",
        "#データプロット\n",
        "plt.xticks(range(10),lst_words,fontproperties=fp) # 横軸\n",
        "plt.bar(range(10),lst_count) # 縦軸\n",
        "plt.show() # 表示\n"
      ],
      "execution_count": 54,
      "outputs": [
        {
          "output_type": "display_data",
          "data": {
            "image/png": "[encoded data removed]",
            "text/plain": [
              "<matplotlib.figure.Figure at 0x7f2bd64156a0>"
            ]
          },
          "metadata": {
            "tags": []
          }
        }
      ]
    },
    {
      "metadata": {
        "id": "bRAmwzzHO99o",
        "colab_type": "text"
      },
      "cell_type": "markdown",
      "source": [
        "## ⚾ 38. ヒストグラム\n",
        "> 単語の出現頻度のヒストグラム（横軸に出現頻度，縦軸に出現頻度をとる単語の種類数を棒グラフで表したもの）を描け．"
      ]
    },
    {
      "metadata": {
        "id": "M550HTcHgPae",
        "colab_type": "text"
      },
      "cell_type": "markdown",
      "source": [
        "### 解1. pyplot でグラフ表示\n",
        "- 手集計して `xticks` でグラフ表示します\n",
        "- ラベルがグチャってなる…"
      ]
    },
    {
      "metadata": {
        "id": "XdVrPWx8gPaj",
        "colab_type": "code",
        "colab": {
          "base_uri": "https://localhost:8080/",
          "height": 378
        },
        "outputId": "1cffa751-84ad-43e0-bcb6-17e77921c3ba"
      },
      "cell_type": "code",
      "source": [
        "lst_cnt = {}\n",
        "lst_cnt2 = {}\n",
        "\n",
        "for lst_common in lst_commons:\n",
        "    lst_cnt[lst_common[1]] = lst_cnt.get(lst_common[1],0) + 1\n",
        "\n",
        "lst_cnt2 =dict(sorted(lst_cnt.items(), key=lambda x: x[0])) #逆順ソート\n",
        "\n",
        "# 日本語フォント\n",
        "fp = FontProperties(fname='/usr/share/fonts/opentype/ipafont-gothic/ipagp.ttf') \n",
        "\n",
        "# ラベル設定\n",
        "plt.title('出現頻度グラフv1', fontproperties=fp)\n",
        "plt.xlabel('単語の種類数', fontproperties=fp) # 横軸\n",
        "plt.ylabel('出現頻度', fontproperties=fp) # 縦軸\n",
        "\n",
        "v = [int(v) for k,v in lst_cnt2.items()] # 縦軸\n",
        "k = [int(k) for k,v in lst_cnt2.items()] # 横軸\n",
        "\n",
        "#データプロット\n",
        "plt.xticks(range(20) ,k[:20:],fontproperties=fp) # 横軸\n",
        "plt.bar(range(20),v[:20:])# 縦軸\n",
        "\n",
        "plt.show() # 表示"
      ],
      "execution_count": 55,
      "outputs": [
        {
          "output_type": "display_data",
          "data": {
            "image/png": "[encoded data removed]",
            "text/plain": [
              "<matplotlib.figure.Figure at 0x7f2bd678b518>"
            ]
          },
          "metadata": {
            "tags": []
          }
        }
      ]
    },
    {
      "metadata": {
        "id": "0qOBJ_9319Vr",
        "colab_type": "text"
      },
      "cell_type": "markdown",
      "source": [
        "## 解2. matplotlib.hist でグラフ表示\n",
        "- `hist` を使用すると、ヒストグラムを計算して描画してくれました\n",
        "  - [matplotlib.pyplot.hist — Matplotlib 2.2.2 documentation](https://matplotlib.org/api/_as_gen/matplotlib.pyplot.hist.html)"
      ]
    },
    {
      "metadata": {
        "id": "6Tyqdbfk2yJh",
        "colab_type": "code",
        "colab": {
          "base_uri": "https://localhost:8080/",
          "height": 377
        },
        "outputId": "d7faabbe-5cea-458b-f82c-3162514702e3"
      },
      "cell_type": "code",
      "source": [
        "# 日本語フォント\n",
        "fp = FontProperties(fname='/usr/share/fonts/opentype/ipafont-gothic/ipagp.ttf') \n",
        "\n",
        "# ラベル設定\n",
        "plt.title('出現頻度グラフv2', fontproperties=fp)\n",
        "plt.xlabel('単語の種類数', fontproperties=fp) # 横軸\n",
        "plt.ylabel('出現頻度', fontproperties=fp) # 縦軸\n",
        "\n",
        "lst_cnt = list(zip(*lst_commons))[1]\n",
        "\n",
        "plt.hist(lst_cnt,\n",
        "    range(20)) \n",
        "\n",
        "plt.show() # 表示"
      ],
      "execution_count": 56,
      "outputs": [
        {
          "output_type": "display_data",
          "data": {
            "image/png": "[encoded data removed]",
            "text/plain": [
              "<matplotlib.figure.Figure at 0x7f2bd678bcc0>"
            ]
          },
          "metadata": {
            "tags": []
          }
        }
      ]
    },
    {
      "metadata": {
        "id": "G0qIGCPHO-Rx",
        "colab_type": "text"
      },
      "cell_type": "markdown",
      "source": [
        "\n",
        "\n",
        "## ⚾ 39. Zipfの法則\n",
        "> 単語の出現頻度順位を横軸，その出現頻度を縦軸として，両対数グラフをプロットせよ．\n"
      ]
    },
    {
      "metadata": {
        "id": "GrrbnjC6lw-5",
        "colab_type": "text"
      },
      "cell_type": "markdown",
      "source": [
        "### 解1. loglogによる両対数グラフ\n",
        "- 両対数グラフ、Zipfの法則ってなんでしょう…\n",
        "\n",
        "> 両対数グラフ（りょうたいすうぐらふ、log-log graph）とは、グラフの両方の軸が対数目盛になっているグラフである。極端に範囲の広いデータを扱える。(Wikipedia)\n",
        "> ジップの法則（ジップのほうそく、Zipf's law）あるいはジフの法則とは、出現頻度が k 番目に大きい要素が全体に占める割合が 1/k に比例するという経験則である。(Wikipedia)\n",
        "\n",
        "- `matplotlib.pyplot.loglog` で両対数グラフが描画できました\n",
        "    - [matplotlib.pyplot.loglog — Matplotlib 2.2.2 documentation](https://matplotlib.org/api/_as_gen/matplotlib.pyplot.loglog.html)\n",
        "\n"
      ]
    },
    {
      "metadata": {
        "id": "3jsx4brElizp",
        "colab_type": "code",
        "colab": {
          "base_uri": "https://localhost:8080/",
          "height": 381
        },
        "outputId": "93a007e0-ccb3-4923-b391-348521253d2a"
      },
      "cell_type": "code",
      "source": [
        "# 日本語フォント\n",
        "fp = FontProperties(fname='/usr/share/fonts/opentype/ipafont-gothic/ipagp.ttf') \n",
        "\n",
        "# ラベル設定\n",
        "plt.title('両対数グラフ', fontproperties=fp)\n",
        "plt.xlabel('単語の種類数', fontproperties=fp) # 横軸\n",
        "plt.ylabel('出現頻度', fontproperties=fp) # 縦軸\n",
        "\n",
        "lst_cnt = list(zip(*lst_commons))[1]\n",
        "\n",
        "# 両対数グラフ\n",
        "plt.loglog(\n",
        "    range(len(lst_cnt)),\n",
        "    lst_cnt\n",
        ")\n",
        "\n",
        "plt.show() # 表示"
      ],
      "execution_count": 57,
      "outputs": [
        {
          "output_type": "display_data",
          "data": {
            "image/png": "[encoded data removed]",
            "text/plain": [
              "<matplotlib.figure.Figure at 0x7f2bd6433748>"
            ]
          },
          "metadata": {
            "tags": []
          }
        }
      ]
    }
  ]
}