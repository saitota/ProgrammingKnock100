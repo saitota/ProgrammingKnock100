{
  "nbformat": 4,
  "nbformat_minor": 0,
  "metadata": {
    "colab": {
      "name": "Chapter04-Q30-Q39.ipynb",
      "version": "0.3.2",
      "provenance": [],
      "collapsed_sections": []
    },
    "kernelspec": {
      "name": "python3",
      "display_name": "Python 3"
    }
  },
  "cells": [
    {
      "cell_type": "markdown",
      "metadata": {
        "id": "view-in-github",
        "colab_type": "text"
      },
      "source": [
        "[View in Colaboratory](https://colab.research.google.com/github/saitota/ProgrammingKnock100/blob/master/Chapter04_Q30_Q39.ipynb)"
      ]
    },
    {
      "metadata": {
        "id": "zMAsXGHp6Umx",
        "colab_type": "text"
      },
      "cell_type": "markdown",
      "source": [
        "# :muscle: 前書き\n",
        "詳細は[第1章](https://qiita.com/saitotak/items/73852ecb7cc4b10b42a5)参照、引き続き言語処理100本ノックの第3章を回答していきます。本章では TBD\n",
        "\n",
        "\n",
        "# :muscle: 第4章: 形態素解析\n",
        "> 夏目漱石の小説『吾輩は猫である』の文章（[neko.txt](http://www.cl.ecei.tohoku.ac.jp/nlp100/data/neko.txt)）をMeCabを使って形態素解析し，その結果をneko.txt.mecabというファイルに保存せよ．このファイルを用いて，以下の問に対応するプログラムを実装せよ．\n",
        "> なお，問題37, 38, 39は[matplotlib](http://matplotlib.org/)もしくは[Gnuplot](http://www.gnuplot.info/)を用いるとよい．\n",
        "\n",
        "UTF-8,LF の1万行程度の日本語プレーンテキストでした。形態素解析と統計のライブラリを存分に使うことになりそうな感じです。\n",
        "\n",
        "```text:neko.txt\n",
        "一\n",
        "\n",
        "　吾輩は猫である。\n",
        "名前はまだ無い。\n",
        "\n",
        "　どこで生れたかとんと見当がつかぬ。\n",
        "何でも薄暗いじめじめした所でニャーニャー泣いていた事だけは記憶している。\n",
        "（以下略）\n",
        "```\n",
        "\n",
        "## ⚾ 30. 形態素解析結果の読み込み\n",
        "> 形態素解析結果（neko.txt.mecab）を読み込むプログラムを実装せよ．ただし，各形態素は表層形（surface），基本形（base），品詞（pos），品詞細分類1（pos1）をキーとするマッピング型に格納し，1文を形態素（マッピング型）のリストとして表現せよ．第4章の残りの問題では，ここで作ったプログラムを活用せよ．\n"
      ]
    },
    {
      "metadata": {
        "id": "YaYccny371nK",
        "colab_type": "text"
      },
      "cell_type": "markdown",
      "source": [
        "## 下準備として\n",
        "- ファイルダウンロード\n",
        "- janomeのインストール"
      ]
    },
    {
      "metadata": {
        "id": "cnfXuA-F6XqS",
        "colab_type": "code",
        "colab": {
          "base_uri": "https://localhost:8080/",
          "height": 34
        },
        "outputId": "48aace8c-115c-4ef2-8778-df609669c028"
      },
      "cell_type": "code",
      "source": [
        "import urllib.request\n",
        "urllib.request.urlretrieve('http://www.cl.ecei.tohoku.ac.jp/nlp100/data/neko.txt','./neko.txt')\n"
      ],
      "execution_count": 4,
      "outputs": [
        {
          "output_type": "execute_result",
          "data": {
            "text/plain": [
              "('./neko.txt', <http.client.HTTPMessage at 0x7fe57ccb29e8>)"
            ]
          },
          "metadata": {
            "tags": []
          },
          "execution_count": 4
        }
      ]
    },
    {
      "metadata": {
        "id": "QVlw3iJO76GF",
        "colab_type": "code",
        "colab": {
          "base_uri": "https://localhost:8080/",
          "height": 34
        },
        "outputId": "32a7b034-0066-487a-e154-0965edb1950f"
      },
      "cell_type": "code",
      "source": [
        "!pip install janome"
      ],
      "execution_count": 5,
      "outputs": [
        {
          "output_type": "stream",
          "text": [
            "Requirement already satisfied: janome in /usr/local/lib/python3.6/dist-packages (0.3.6)\r\n"
          ],
          "name": "stdout"
        }
      ]
    },
    {
      "metadata": {
        "id": "o2EZDjwA-ATd",
        "colab_type": "text"
      },
      "cell_type": "markdown",
      "source": [
        "### 解0-1 janomeによる形態素解析と、neko.txt.janome のテキスト作成（おそい）\n",
        "- MeCab ではなく janome をインストールします、なぜならインストールが簡単だったから。\n",
        "- `janome.tokenizer` を使って形態素解析します\n",
        "    - [janome package — janome.tokenizer](http://mocobeta.github.io/janome/api/janome.html#module-janome.tokenizer)\n",
        "- やたら遅かったので、開始・終了 時間を計測するコードを入れました\n",
        "- 実測：42sec\n"
      ]
    },
    {
      "metadata": {
        "id": "u_qr8E_f6Z1I",
        "colab_type": "code",
        "colab": {
          "base_uri": "https://localhost:8080/",
          "height": 89
        },
        "outputId": "d7b20794-dc4d-42e9-cfce-367c3b29448c"
      },
      "cell_type": "code",
      "source": [
        "from janome.tokenizer import Tokenizer\n",
        "import janome\n",
        "import datetime\n",
        "\n",
        "print('start:' + str(datetime.datetime.now()))\n",
        "\n",
        "t = Tokenizer()\n",
        "\n",
        "# WriteのたびにOpen\n",
        "with open ('./neko.txt','r',encoding='utf-8') as file_temp:\n",
        "    for line in file_temp:\n",
        "        # 形態素解析して保存\n",
        "        for token in t.tokenize(line, stream=True):\n",
        "            with open ('./neko.txt.janome-01','a',encoding='utf-8') as file_janome:\n",
        "                    file_janome.write(str(token) + '\\n')\n",
        "\n",
        "print('end:' + str(datetime.datetime.now()))\n",
        "\n",
        "'''\n",
        "一\t名詞,数,*,*,*,*,一,イチ,イチ\n",
        "吾輩\t名詞,代名詞,一般,*,*,*,吾輩,ワガハイ,ワガハイ\n",
        "は\t助詞,係助詞,*,*,*,*,は,ハ,ワ\n",
        "猫\t名詞,一般,*,*,*,*,猫,ネコ,ネコ\n",
        "で\t助動詞,*,*,*,特殊・ダ,連用形,だ,デ,デ\n",
        "ある\t助動詞,*,*,*,五段・ラ行アル,基本形,ある,アル,アル\n",
        "。\t記号,句点,*,*,*,*,。,。,。\n",
        "名前\t名詞,一般,*,*,*,*,名前,ナマエ,ナマエ\n",
        "（以下略）\n",
        "'''\n"
      ],
      "execution_count": 6,
      "outputs": [
        {
          "output_type": "stream",
          "text": [
            "start:2018-05-08 12:42:38.687158\n",
            "end:2018-05-08 12:43:20.010313\n"
          ],
          "name": "stdout"
        },
        {
          "output_type": "execute_result",
          "data": {
            "text/plain": [
              "'\\n一\\t名詞,数,*,*,*,*,一,イチ,イチ\\n吾輩\\t名詞,代名詞,一般,*,*,*,吾輩,ワガハイ,ワガハイ\\nは\\t助詞,係助詞,*,*,*,*,は,ハ,ワ\\n猫\\t名詞,一般,*,*,*,*,猫,ネコ,ネコ\\nで\\t助動詞,*,*,*,特殊・ダ,連用形,だ,デ,デ\\nある\\t助動詞,*,*,*,五段・ラ行アル,基本形,ある,アル,アル\\n。\\t記号,句点,*,*,*,*,。,。,。\\n名前\\t名詞,一般,*,*,*,*,名前,ナマエ,ナマエ\\n（以下略）\\n'"
            ]
          },
          "metadata": {
            "tags": []
          },
          "execution_count": 6
        }
      ]
    },
    {
      "metadata": {
        "id": "7LZCwCp7-XOP",
        "colab_type": "text"
      },
      "cell_type": "markdown",
      "source": [
        "### 解0-2 高速化\n",
        "- メモリ枯渇を鑑み 形態素解析→write を繰り返すようにしてみましたが、やたらと時間がかかったため、一括で書き込むようにして高速化を図ります\n",
        "- 実測：29sec"
      ]
    },
    {
      "metadata": {
        "id": "Sqhe6pLpADtg",
        "colab_type": "code",
        "colab": {
          "base_uri": "https://localhost:8080/",
          "height": 52
        },
        "outputId": "07d81b25-65d3-4874-e38f-46d7f91f7da0"
      },
      "cell_type": "code",
      "source": [
        "print('start:' + str(datetime.datetime.now()))\n",
        "\n",
        "t = Tokenizer()\n",
        "\n",
        "# Openしてから\n",
        "with open ('./neko.txt','r',encoding='utf-8') as file_temp , open ('./neko.txt.janome-02','a',encoding='utf-8') as file_janome:\n",
        "    for line in file_temp:\n",
        "        # 形態素解析して保存\n",
        "        for x in t.tokenize(line, stream=True):\n",
        "            file_janome.write(str(x) + '\\n') \n",
        "            \n",
        "\n",
        "print('end:' + str(datetime.datetime.now()))"
      ],
      "execution_count": 7,
      "outputs": [
        {
          "output_type": "stream",
          "text": [
            "start:2018-05-08 12:43:20.715597\n",
            "end:2018-05-08 12:43:49.633588\n"
          ],
          "name": "stdout"
        }
      ]
    },
    {
      "metadata": {
        "id": "5IG5w-c8Bj5H",
        "colab_type": "text"
      },
      "cell_type": "markdown",
      "source": [
        "### 解0-3 さらに高速化\n",
        "- それでも遅い気がしたので、書き込み部分をリスト内包表記にしました、多少早くなった\n",
        "- 実測：27sec\n"
      ]
    },
    {
      "metadata": {
        "id": "brxKwHW0BoY9",
        "colab_type": "code",
        "colab": {
          "base_uri": "https://localhost:8080/",
          "height": 52
        },
        "outputId": "962fe2b4-e8e2-4f27-ac4f-faa39d56edaf"
      },
      "cell_type": "code",
      "source": [
        "print('start:' + str(datetime.datetime.now()))\n",
        "\n",
        "t = Tokenizer()\n",
        "\n",
        "# 一部リスト内包表記\n",
        "with open ('./neko.txt','r',encoding='utf-8') as file_temp , open ('./neko.txt.janome-03','a',encoding='utf-8') as file_janome:\n",
        "    for line in file_temp:\n",
        "        # 形態素解析して保存\n",
        "        [file_janome.write(str(x) + '\\n') for x in t.tokenize(line, stream=True)]\n",
        "            \n",
        "\n",
        "print('end:' + str(datetime.datetime.now()))"
      ],
      "execution_count": 8,
      "outputs": [
        {
          "output_type": "stream",
          "text": [
            "start:2018-05-08 12:43:50.426822\n",
            "end:2018-05-08 12:44:17.077403\n"
          ],
          "name": "stdout"
        }
      ]
    },
    {
      "metadata": {
        "id": "1AODqHM9BttK",
        "colab_type": "text"
      },
      "cell_type": "markdown",
      "source": [
        "### 解0-4 さらに高速化・・・失敗\n",
        "- 読みにくいですがぜんぶリスト内包表記にしました\n",
        "- 実測：88sec\n",
        "  - 遅くなった何故。。。"
      ]
    },
    {
      "metadata": {
        "id": "SX2i9XKXBxXx",
        "colab_type": "code",
        "colab": {
          "base_uri": "https://localhost:8080/",
          "height": 52
        },
        "outputId": "13242cfc-a038-47e3-d09f-4c50d31cb3e0"
      },
      "cell_type": "code",
      "source": [
        "print('start:' + str(datetime.datetime.now()))\n",
        "\n",
        "t = Tokenizer()\n",
        "\n",
        "# リスト内包表記\n",
        "with open ('./neko.txt','r',encoding='utf-8') as file_temp , open ('./neko.txt.janome-04','a',encoding='utf-8') as file_janome:\n",
        "    [\n",
        "        [\n",
        "            file_janome.write(str(x) + '\\n')\n",
        "            for x in t.tokenize(y, stream=True)\n",
        "        ]\n",
        "        for y in file_temp\n",
        "    ]\n",
        "\n",
        "print('end:' + str(datetime.datetime.now()))"
      ],
      "execution_count": 11,
      "outputs": [
        {
          "output_type": "stream",
          "text": [
            "start:2018-05-08 12:54:00.055594\n",
            "end:2018-05-08 12:54:26.359976\n"
          ],
          "name": "stdout"
        }
      ]
    },
    {
      "metadata": {
        "id": "TjZ3XTkcCGkQ",
        "colab_type": "text"
      },
      "cell_type": "markdown",
      "source": [
        "### 解1 neko.txt.janome のテキスト作成\n",
        "-  形態素はタブ区切り、品詞等の分類はカンマ区切りなので成型します"
      ]
    },
    {
      "metadata": {
        "id": "cZwLEpyzC3MP",
        "colab_type": "code",
        "colab": {
          "base_uri": "https://localhost:8080/",
          "height": 192
        },
        "outputId": "973654b4-f78a-4a6f-dab3-7db886a49cfc"
      },
      "cell_type": "code",
      "source": [
        "with open ('./neko.txt.janome-04','r',encoding='utf-8') as file_temp:\n",
        "    text = file_temp.readlines()\n",
        "\n",
        "lst_janome=[]\n",
        "for line in text:\n",
        "    lst_janome.append(\n",
        "        { 'surface': line.split('\\t')[0], # 表層形\n",
        "          'pos'    : line.split('\\t')[1].split(',')[0], # 品詞\n",
        "          'pos1'   : line.split('\\t')[1].split(',')[1], # 品詞細分類1\n",
        "          'base'   : line.split('\\t')[1].split(',')[4]   # 基本形\n",
        "        })\n",
        "\n",
        "for i in range(10):\n",
        "    print(lst_janome[i])\n",
        "  "
      ],
      "execution_count": 28,
      "outputs": [
        {
          "output_type": "stream",
          "text": [
            "{'surface': '一', 'pos': '名詞', 'pos1': '数', 'base': '*'}\n",
            "{'surface': '吾輩', 'pos': '名詞', 'pos1': '代名詞', 'base': '*'}\n",
            "{'surface': 'は', 'pos': '助詞', 'pos1': '係助詞', 'base': '*'}\n",
            "{'surface': '猫', 'pos': '名詞', 'pos1': '一般', 'base': '*'}\n",
            "{'surface': 'で', 'pos': '助動詞', 'pos1': '*', 'base': '特殊・ダ'}\n",
            "{'surface': 'ある', 'pos': '助動詞', 'pos1': '*', 'base': '五段・ラ行アル'}\n",
            "{'surface': '。', 'pos': '記号', 'pos1': '句点', 'base': '*'}\n",
            "{'surface': '名前', 'pos': '名詞', 'pos1': '一般', 'base': '*'}\n",
            "{'surface': 'は', 'pos': '助詞', 'pos1': '係助詞', 'base': '*'}\n",
            "{'surface': 'まだ', 'pos': '副詞', 'pos1': '助詞類接続', 'base': '*'}\n"
          ],
          "name": "stdout"
        }
      ]
    },
    {
      "metadata": {
        "id": "Nt_Je-mbxo_k",
        "colab_type": "text"
      },
      "cell_type": "markdown",
      "source": [
        "\n",
        "## ⚾ 31. 動詞\n",
        "> 動詞の表層形をすべて抽出せよ．"
      ]
    },
    {
      "metadata": {
        "id": "9aDQrWN0xtxf",
        "colab_type": "code",
        "colab": {}
      },
      "cell_type": "code",
      "source": [
        "with open ('./neko.txt.janome','r',encoding='utf-8') as file_temp:\n",
        "    #for line in file_temp:\n",
        "    #    print(line)\n",
        "    text = file_temp.readlines()\n",
        "\n",
        "for line in text:\n",
        "    print(line)"
      ],
      "execution_count": 0,
      "outputs": []
    },
    {
      "metadata": {
        "id": "Kh5si4i1Ejgj",
        "colab_type": "text"
      },
      "cell_type": "markdown",
      "source": [
        "TBD\n",
        "\n",
        "## ⚾ 32. 動詞の原形\n",
        "> 動詞の原形をすべて抽出せよ．\n",
        "\n",
        "## ⚾ 33. サ変名詞\n",
        "> サ変接続の名詞をすべて抽出せよ．\n",
        "\n",
        "## ⚾ 34. 「AのB」\n",
        "> 2つの名詞が「の」で連結されている名詞句を抽出せよ．\n",
        "\n",
        "## ⚾ 35. 名詞の連接\n",
        "> 名詞の連接（連続して出現する名詞）を最長一致で抽出せよ．\n",
        "\n",
        "## ⚾ 36. 単語の出現頻度\n",
        "> 文章中に出現する単語とその出現頻度を求め，出現頻度の高い順に並べよ．\n",
        "\n",
        "## ⚾ 37. 頻度上位10語\n",
        "> 出現頻度が高い10語とその出現頻度をグラフ（例えば棒グラフなど）で表示せよ．\n",
        "\n",
        "## ⚾ 38. ヒストグラム\n",
        "> 単語の出現頻度のヒストグラム（横軸に出現頻度，縦軸に出現頻度をとる単語の種類数を棒グラフで表したもの）を描け．\n",
        "\n",
        "## ⚾ 39. Zipfの法則\n",
        "> 単語の出現頻度順位を横軸，その出現頻度を縦軸として，両対数グラフをプロットせよ．\n"
      ]
    }
  ]
}