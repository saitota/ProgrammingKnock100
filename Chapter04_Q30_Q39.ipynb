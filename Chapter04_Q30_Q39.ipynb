{
  "nbformat": 4,
  "nbformat_minor": 0,
  "metadata": {
    "colab": {
      "name": "Chapter04-Q30-Q39.ipynb",
      "version": "0.3.2",
      "provenance": []
    },
    "kernelspec": {
      "name": "python3",
      "display_name": "Python 3"
    }
  },
  "cells": [
    {
      "cell_type": "markdown",
      "metadata": {
        "id": "view-in-github",
        "colab_type": "text"
      },
      "source": [
        "[View in Colaboratory](https://colab.research.google.com/github/saitota/ProgrammingKnock100/blob/master/Chapter04_Q30_Q39.ipynb)"
      ]
    },
    {
      "metadata": {
        "id": "zMAsXGHp6Umx",
        "colab_type": "text"
      },
      "cell_type": "markdown",
      "source": [
        "# :muscle: 第4章: 形態素解析\n",
        "> 夏目漱石の小説『吾輩は猫である』の文章（[neko.txt](http://www.cl.ecei.tohoku.ac.jp/nlp100/data/neko.txt)）をMeCabを使って形態素解析し，その結果をneko.txt.mecabというファイルに保存せよ．このファイルを用いて，以下の問に対応するプログラムを実装せよ．\n",
        "> なお，問題37, 38, 39は[matplotlib](http://matplotlib.org/)もしくは[Gnuplot](http://www.gnuplot.info/)を用いるとよい．\n",
        "\n",
        "UTF-8,LF の1万行程度の日本語プレーンテキストでした。形態素解析と統計のライブラリを存分に使うことになりそうな感じです。\n",
        "\n",
        "```text:neko.txt\n",
        "一\n",
        "\n",
        "　吾輩は猫である。\n",
        "名前はまだ無い。\n",
        "\n",
        "　どこで生れたかとんと見当がつかぬ。\n",
        "何でも薄暗いじめじめした所でニャーニャー泣いていた事だけは記憶している。\n",
        "（以下略）\n",
        "```\n",
        "\n",
        "## ⚾ 30. 形態素解析結果の読み込み\n",
        "> 形態素解析結果（neko.txt.mecab）を読み込むプログラムを実装せよ．ただし，各形態素は表層形（surface），基本形（base），品詞（pos），品詞細分類1（pos1）をキーとするマッピング型に格納し，1文を形態素（マッピング型）のリストとして表現せよ．第4章の残りの問題では，ここで作ったプログラムを活用せよ．\n"
      ]
    },
    {
      "metadata": {
        "id": "YaYccny371nK",
        "colab_type": "text"
      },
      "cell_type": "markdown",
      "source": [
        "## 下準備として\n",
        "- ファイルダウンロード\n",
        "- janomeのインストール"
      ]
    },
    {
      "metadata": {
        "id": "cnfXuA-F6XqS",
        "colab_type": "code",
        "colab": {
          "base_uri": "https://localhost:8080/",
          "height": 36
        },
        "outputId": "f389c24c-81b5-4a24-a798-a730b9e90985"
      },
      "cell_type": "code",
      "source": [
        "import urllib.request\n",
        "urllib.request.urlretrieve('http://www.cl.ecei.tohoku.ac.jp/nlp100/data/neko.txt','./neko.txt')\n"
      ],
      "execution_count": 4,
      "outputs": [
        {
          "output_type": "execute_result",
          "data": {
            "text/plain": [
              "('./neko.txt', <http.client.HTTPMessage at 0x7fb25f6a0748>)"
            ]
          },
          "metadata": {
            "tags": []
          },
          "execution_count": 4
        }
      ]
    },
    {
      "metadata": {
        "id": "QVlw3iJO76GF",
        "colab_type": "code",
        "colab": {
          "base_uri": "https://localhost:8080/",
          "height": 196
        },
        "outputId": "d39dc303-2ea1-4511-944a-60fbcf1f08f6"
      },
      "cell_type": "code",
      "source": [
        "!pip install janome"
      ],
      "execution_count": 7,
      "outputs": [
        {
          "output_type": "stream",
          "text": [
            "Collecting janome\n",
            "\u001b[?25l  Downloading https://files.pythonhosted.org/packages/b4/7b/6f4fa5243a235cd682693b448f05afacedb2b10fc2efea3369d6336ab83b/Janome-0.3.6.tar.gz (20.0MB)\n",
            "\u001b[K    100% |████████████████████████████████| 20.0MB 2.1MB/s \n",
            "\u001b[?25hBuilding wheels for collected packages: janome\n",
            "  Running setup.py bdist_wheel for janome ... \u001b[?25l-\b \b\\\b \b|\b \b/\b \b-\b \b\\\b \b|\b \b/\b \b-\b \b\\\b \b|\b \b/\b \b-\b \b\\\b \b|\b \b/\b \b-\b \b\\\b \b|\b \b/\b \b-\b \b\\\b \b|\b \b/\b \b-\b \b\\\b \b|\b \b/\b \b-\b \b\\\b \b|\b \b/\b \b-\b \bdone\n",
            "\u001b[?25h  Stored in directory: /content/.cache/pip/wheels/53/60/be/fe884e2d0ebc9fec0988736cf08a2820ab34e3569fc0c5a25a\n",
            "Successfully built janome\n",
            "Installing collected packages: janome\n",
            "Successfully installed janome-0.3.6\n"
          ],
          "name": "stdout"
        }
      ]
    },
    {
      "metadata": {
        "id": "o2EZDjwA-ATd",
        "colab_type": "text"
      },
      "cell_type": "markdown",
      "source": [
        "### 解0-1 janomeによる形態素解析と、neko.txt.janome のテキスト作成（おそい）\n",
        "- MeCab ではなく janome をインストールします、インストールが簡単だったから。\n",
        "- `janome.tokenizer` を使って形態素解析します\n",
        "    - [janome package — janome.tokenizer](http://mocobeta.github.io/janome/api/janome.html#module-janome.tokenizer)\n",
        "- やたら遅かったので、開始・終了 時間を計測するコードを入れました\n"
      ]
    },
    {
      "metadata": {
        "id": "u_qr8E_f6Z1I",
        "colab_type": "code",
        "colab": {
          "base_uri": "https://localhost:8080/",
          "height": 91
        },
        "outputId": "cbaf603b-e016-4946-a5bc-dd2c80498aa7"
      },
      "cell_type": "code",
      "source": [
        "from janome.tokenizer import Tokenizer\n",
        "import janome\n",
        "import datetime\n",
        "\n",
        "print('start:' + str(datetime.datetime.now()))\n",
        "\n",
        "t = Tokenizer()\n",
        "\n",
        "# WriteのたびにOpen\n",
        "with open ('./neko.txt','r',encoding='utf-8') as file_temp:\n",
        "    for line in file_temp:\n",
        "        # 形態素解析して保存\n",
        "        for token in t.tokenize(line, stream=True):\n",
        "            with open ('./neko.txt.janome-01','a',encoding='utf-8') as file_janome:\n",
        "                    file_janome.write(str(token) + '\\n')\n",
        "\n",
        "print('end:' + str(datetime.datetime.now()))\n",
        "\n",
        "'''\n",
        "一\t名詞,数,*,*,*,*,一,イチ,イチ\n",
        "吾輩\t名詞,代名詞,一般,*,*,*,吾輩,ワガハイ,ワガハイ\n",
        "は\t助詞,係助詞,*,*,*,*,は,ハ,ワ\n",
        "猫\t名詞,一般,*,*,*,*,猫,ネコ,ネコ\n",
        "で\t助動詞,*,*,*,特殊・ダ,連用形,だ,デ,デ\n",
        "ある\t助動詞,*,*,*,五段・ラ行アル,基本形,ある,アル,アル\n",
        "。\t記号,句点,*,*,*,*,。,。,。\n",
        "名前\t名詞,一般,*,*,*,*,名前,ナマエ,ナマエ\n",
        "（以下略）\n",
        "'''\n"
      ],
      "execution_count": 9,
      "outputs": [
        {
          "output_type": "stream",
          "text": [
            "start:2018-05-02 13:08:59.171037\n",
            "end:2018-05-02 13:09:39.100266\n"
          ],
          "name": "stdout"
        },
        {
          "output_type": "execute_result",
          "data": {
            "text/plain": [
              "'\\n一\\t名詞,数,*,*,*,*,一,イチ,イチ\\n吾輩\\t名詞,代名詞,一般,*,*,*,吾輩,ワガハイ,ワガハイ\\nは\\t助詞,係助詞,*,*,*,*,は,ハ,ワ\\n猫\\t名詞,一般,*,*,*,*,猫,ネコ,ネコ\\nで\\t助動詞,*,*,*,特殊・ダ,連用形,だ,デ,デ\\nある\\t助動詞,*,*,*,五段・ラ行アル,基本形,ある,アル,アル\\n。\\t記号,句点,*,*,*,*,。,。,。\\n名前\\t名詞,一般,*,*,*,*,名前,ナマエ,ナマエ\\n（以下略）\\n'"
            ]
          },
          "metadata": {
            "tags": []
          },
          "execution_count": 9
        }
      ]
    },
    {
      "metadata": {
        "id": "7LZCwCp7-XOP",
        "colab_type": "text"
      },
      "cell_type": "markdown",
      "source": [
        "### 解0-2 高速化(18秒短縮)\n",
        "- メモリ枯渇を鑑み 形態素解析→write を繰り返すようにしてみましたが、やたらと時間がかかったため、一括で書き込むようにして高速化を図ります"
      ]
    },
    {
      "metadata": {
        "id": "Sqhe6pLpADtg",
        "colab_type": "code",
        "colab": {
          "base_uri": "https://localhost:8080/",
          "height": 54
        },
        "outputId": "f16ebfc1-5beb-404d-9c34-f6e3fd7406bf"
      },
      "cell_type": "code",
      "source": [
        "print('start:' + str(datetime.datetime.now()))\n",
        "\n",
        "t = Tokenizer()\n",
        "\n",
        "# Openしてから\n",
        "with open ('./neko.txt','r',encoding='utf-8') as file_temp , open ('./neko.txt.janome-02','a',encoding='utf-8') as file_janome:\n",
        "    for line in file_temp:\n",
        "        # 形態素解析して保存\n",
        "        for x in t.tokenize(line, stream=True):\n",
        "            file_janome.write(str(x) + '\\n') \n",
        "            \n",
        "\n",
        "print('end:' + str(datetime.datetime.now()))"
      ],
      "execution_count": 11,
      "outputs": [
        {
          "output_type": "stream",
          "text": [
            "start:2018-05-02 13:17:48.760021\n",
            "end:2018-05-02 13:18:17.343985\n"
          ],
          "name": "stdout"
        }
      ]
    },
    {
      "metadata": {
        "id": "5IG5w-c8Bj5H",
        "colab_type": "text"
      },
      "cell_type": "markdown",
      "source": [
        "### 解0-3 さらに高速化(18秒短縮)\n",
        "- それでも遅い気がしたので、書き込み部分をリスト内包表記にしました、多少早くなった\n"
      ]
    },
    {
      "metadata": {
        "id": "brxKwHW0BoY9",
        "colab_type": "code",
        "colab": {
          "base_uri": "https://localhost:8080/",
          "height": 54
        },
        "outputId": "13abf0e6-2ecd-4fe9-c163-755bfc188236"
      },
      "cell_type": "code",
      "source": [
        "print('start:' + str(datetime.datetime.now()))\n",
        "\n",
        "t = Tokenizer()\n",
        "\n",
        "# 一部リスト内包表記\n",
        "with open ('./neko.txt','r',encoding='utf-8') as file_temp , open ('./neko.txt.janome-03','a',encoding='utf-8') as file_janome:\n",
        "    for line in file_temp:\n",
        "        # 形態素解析して保存\n",
        "        [file_janome.write(str(x) + '\\n') for x in t.tokenize(line, stream=True)]\n",
        "            \n",
        "\n",
        "print('end:' + str(datetime.datetime.now()))"
      ],
      "execution_count": 13,
      "outputs": [
        {
          "output_type": "stream",
          "text": [
            "start:2018-05-02 13:24:34.687421\n",
            "end:2018-05-02 13:25:03.637090\n"
          ],
          "name": "stdout"
        }
      ]
    },
    {
      "metadata": {
        "id": "1AODqHM9BttK",
        "colab_type": "text"
      },
      "cell_type": "markdown",
      "source": [
        "### 解0-4 さらに高速化（1秒短縮）\n",
        "- 読みにくいですがぜんぶリスト内包表記にしました、誤差レベル。。。\n",
        "- 形態素解析とI/Oにそこそこ処理時間が必要ということでしょう"
      ]
    },
    {
      "metadata": {
        "id": "SX2i9XKXBxXx",
        "colab_type": "code",
        "colab": {
          "base_uri": "https://localhost:8080/",
          "height": 54
        },
        "outputId": "0b708fb9-d3d4-4b19-9d4b-e7112b8c8aa3"
      },
      "cell_type": "code",
      "source": [
        "print('start:' + str(datetime.datetime.now()))\n",
        "\n",
        "t = Tokenizer()\n",
        "\n",
        "# リスト内包表記\n",
        "with open ('./neko.txt','r',encoding='utf-8') as file_temp , open ('./neko.txt.janome','a',encoding='utf-8') as file_janome:\n",
        "    [\n",
        "        [\n",
        "            file_janome.write(str(x) + '\\n')\n",
        "            for x in t.tokenize(y, stream=True)\n",
        "        ]\n",
        "        for y in file_temp\n",
        "    ]\n",
        "\n",
        "print('end:' + str(datetime.datetime.now()))"
      ],
      "execution_count": 15,
      "outputs": [
        {
          "output_type": "stream",
          "text": [
            "start:2018-05-02 13:25:44.702918\n",
            "end:2018-05-02 13:26:13.624182\n"
          ],
          "name": "stdout"
        }
      ]
    },
    {
      "metadata": {
        "id": "TjZ3XTkcCGkQ",
        "colab_type": "text"
      },
      "cell_type": "markdown",
      "source": [
        "### 解1 neko.txt.janome のテキスト作成\n",
        "- "
      ]
    },
    {
      "metadata": {
        "id": "cZwLEpyzC3MP",
        "colab_type": "code",
        "colab": {}
      },
      "cell_type": "code",
      "source": [
        "with open ('./neko.txt.janome','r',encoding='utf-8') as file_temp:\n",
        "    #for line in file_temp:\n",
        "    #    print(line)\n",
        "    text = file_temp.readlines()\n",
        "\n",
        "for line in text:\n",
        "    print(line)\n"
      ],
      "execution_count": 0,
      "outputs": []
    }
  ]
}